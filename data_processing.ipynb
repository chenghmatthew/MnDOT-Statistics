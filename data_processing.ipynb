{
 "cells": [
  {
   "cell_type": "code",
   "execution_count": 2,
   "metadata": {},
   "outputs": [],
   "source": [
    "# MnDOT descriptive statistics workspace\n",
    "import numpy as np \n",
    "import pandas as pd \n",
    "import math \n",
    "import statistics\n",
    "import scipy.stats"
   ]
  }
 ],
 "metadata": {
  "kernelspec": {
   "display_name": "Python 3.9.12 ('base')",
   "language": "python",
   "name": "python3"
  },
  "language_info": {
   "codemirror_mode": {
    "name": "ipython",
    "version": 3
   },
   "file_extension": ".py",
   "mimetype": "text/x-python",
   "name": "python",
   "nbconvert_exporter": "python",
   "pygments_lexer": "ipython3",
   "version": "3.9.12"
  },
  "orig_nbformat": 4,
  "vscode": {
   "interpreter": {
    "hash": "c9337d9e369afa740d3396dcb70a5a77990e896deb4111231281ae451e6f1a48"
   }
  }
 },
 "nbformat": 4,
 "nbformat_minor": 2
}
