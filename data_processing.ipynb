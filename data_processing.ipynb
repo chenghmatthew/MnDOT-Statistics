{
 "cells": [
  {
   "cell_type": "code",
   "execution_count": 4,
   "metadata": {},
   "outputs": [],
   "source": [
    "# MnDOT descriptive statistics workspace\n",
    "import numpy as np \n",
    "import pandas as pd \n",
    "import math \n",
    "import statistics\n",
    "from scipy import stats\n",
    "import seaborn\n"
   ]
  },
  {
   "cell_type": "code",
   "execution_count": null,
   "metadata": {},
   "outputs": [],
   "source": [
    "# Read the data in csv form\n",
    "df = pd.read_csv(r'')\n",
    "\n",
    "\n",
    "# Read in any lookup tables for data frame\n",
    "df_lookup = pd.read_csv(r'')\n",
    "\n",
    "# ZIP Code lookup\n",
    "df_zip = pd.read_csv(r'')\n",
    "\n",
    "# General Statstics\n",
    "df['fieldname'].describe()\n"
   ]
  },
  {
   "cell_type": "code",
   "execution_count": null,
   "metadata": {},
   "outputs": [],
   "source": [
    "# Determine Distribution\n",
    "def gaussian_test(col, values):\n",
    "    stat1, p1 = stats.shapiro(values)\n",
    "    stat2, p2 = stats.normaltest(values)"
   ]
  },
  {
   "cell_type": "code",
   "execution_count": null,
   "metadata": {},
   "outputs": [],
   "source": [
    "# Group by Statistics\n",
    "df_group = df.groupby(['fieldname', 'fieldname2']).mean().reset_index()\n",
    "\n",
    "\n"
   ]
  },
  {
   "cell_type": "code",
   "execution_count": null,
   "metadata": {},
   "outputs": [],
   "source": [
    "# Student's t-test\n",
    "# 1-sample testing\n",
    "stats.ttest_1samp(df[''], 0)\n",
    "\n",
    "# 2-sample testing\n"
   ]
  },
  {
   "cell_type": "code",
   "execution_count": null,
   "metadata": {},
   "outputs": [],
   "source": [
    "# Correlation between pairs of data \n",
    "df.corr()"
   ]
  },
  {
   "cell_type": "code",
   "execution_count": null,
   "metadata": {},
   "outputs": [],
   "source": []
  }
 ],
 "metadata": {
  "kernelspec": {
   "display_name": "Python 3.9.12 ('base')",
   "language": "python",
   "name": "python3"
  },
  "language_info": {
   "codemirror_mode": {
    "name": "ipython",
    "version": 3
   },
   "file_extension": ".py",
   "mimetype": "text/x-python",
   "name": "python",
   "nbconvert_exporter": "python",
   "pygments_lexer": "ipython3",
   "version": "3.9.12"
  },
  "orig_nbformat": 4,
  "vscode": {
   "interpreter": {
    "hash": "c9337d9e369afa740d3396dcb70a5a77990e896deb4111231281ae451e6f1a48"
   }
  }
 },
 "nbformat": 4,
 "nbformat_minor": 2
}
