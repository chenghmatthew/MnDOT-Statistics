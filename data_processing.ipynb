{
 "cells": [
  {
   "cell_type": "code",
   "execution_count": 4,
   "metadata": {},
   "outputs": [],
   "source": [
    "# MnDOT descriptive statistics workspace\n",
    "import numpy as np \n",
    "import pandas as pd \n",
    "import math \n",
    "import statistics\n",
    "from scipy import stats\n",
    "import seaborn\n"
   ]
  },
  {
   "cell_type": "code",
   "execution_count": null,
   "metadata": {},
   "outputs": [],
   "source": [
    "# Read the data in csv form\n",
    "df = pd.read_csv(r'')\n",
    "\n",
    "\n",
    "# Read in any lookup tables for data frame\n",
    "df_lookup = pd.read_csv(r'')\n",
    "\n",
    "# ZIP Code lookup\n",
    "df_zip = pd.read_csv(r'')\n",
    "\n",
    "# General Statstics\n",
    "df['fieldname'].describe()\n"
   ]
  },
  {
   "cell_type": "code",
   "execution_count": null,
   "metadata": {},
   "outputs": [],
   "source": [
    "# Determine Distribution\n",
    "def gaussian_test(col, values):\n",
    "    stat1, p1 = stats.shapiro(values)\n",
    "    stat2, p2 = stats.normaltest(values)"
   ]
  },
  {
   "cell_type": "code",
   "execution_count": null,
   "metadata": {},
   "outputs": [],
   "source": [
    "# Group by Statistics\n",
    "df_group = df.groupby(['fieldname', 'fieldname2']).mean().reset_index()\n",
    "\n",
    "\n"
   ]
  },
  {
   "cell_type": "code",
   "execution_count": 12,
   "metadata": {},
   "outputs": [
    {
     "data": {
      "text/plain": [
       "No Response                   808\n",
       "Female                        400\n",
       "Male                          314\n",
       "Non-Binary or Gender Fluid     13\n",
       "Name: Gender Identity (Clean), dtype: int64"
      ]
     },
     "execution_count": 12,
     "metadata": {},
     "output_type": "execute_result"
    }
   ],
   "source": [
    "df['Gender Identity (Clean)'].value_counts()"
   ]
  },
  {
   "cell_type": "code",
   "execution_count": 38,
   "metadata": {},
   "outputs": [
    {
     "data": {
      "text/plain": [
       "No Response                            839\n",
       "White                                  554\n",
       "Hispanic/Latino                         81\n",
       "Black or African American               22\n",
       "Some other race/more than one race      17\n",
       "Asian                                   13\n",
       "American Indian or Alaska Native         8\n",
       "Native Hawaiian or Pacific Islander      1\n",
       "Name: Race/Ethnicity (Clean), dtype: int64"
      ]
     },
     "execution_count": 38,
     "metadata": {},
     "output_type": "execute_result"
    }
   ],
   "source": [
    "df['Race/Ethnicity (Clean)'].value_counts()"
   ]
  },
  {
   "cell_type": "code",
   "execution_count": 14,
   "metadata": {},
   "outputs": [
    {
     "data": {
      "text/plain": [
       "No Response    789\n",
       "35-44          201\n",
       "25-34          146\n",
       "45-54          125\n",
       "55-64          123\n",
       "65-74           85\n",
       "18-24           43\n",
       "75+             18\n",
       "Under 18         5\n",
       "Name: Age Range, dtype: int64"
      ]
     },
     "execution_count": 14,
     "metadata": {},
     "output_type": "execute_result"
    }
   ],
   "source": [
    "df['Age Range'].value_counts()"
   ]
  },
  {
   "cell_type": "code",
   "execution_count": 20,
   "metadata": {},
   "outputs": [
    {
     "data": {
      "text/plain": [
       "887"
      ]
     },
     "execution_count": 20,
     "metadata": {},
     "output_type": "execute_result"
    }
   ],
   "source": [
    "df['Zip Code (Clean)'].count()"
   ]
  },
  {
   "cell_type": "code",
   "execution_count": 16,
   "metadata": {},
   "outputs": [
    {
     "data": {
      "text/plain": [
       "297"
      ]
     },
     "execution_count": 16,
     "metadata": {},
     "output_type": "execute_result"
    }
   ],
   "source": [
    "df['What else would you like us to know?: (ENGLISH)'].count()"
   ]
  },
  {
   "cell_type": "code",
   "execution_count": 17,
   "metadata": {},
   "outputs": [
    {
     "data": {
      "text/plain": [
       "7"
      ]
     },
     "execution_count": 17,
     "metadata": {},
     "output_type": "execute_result"
    }
   ],
   "source": [
    "df['What else would you like us to know?: (SPANISH/HMONG)'].count()"
   ]
  },
  {
   "cell_type": "code",
   "execution_count": null,
   "metadata": {},
   "outputs": [],
   "source": []
  }
 ],
 "metadata": {
  "kernelspec": {
   "display_name": "Python 3 (ipykernel)",
   "language": "python",
   "name": "python3"
  },
  "language_info": {
   "codemirror_mode": {
    "name": "ipython",
    "version": 3
   },
   "file_extension": ".py",
   "mimetype": "text/x-python",
   "name": "python",
   "nbconvert_exporter": "python",
   "pygments_lexer": "ipython3",
   "version": "3.8.8"
  },
  "vscode": {
   "interpreter": {
    "hash": "c9337d9e369afa740d3396dcb70a5a77990e896deb4111231281ae451e6f1a48"
   }
  }
 },
 "nbformat": 4,
 "nbformat_minor": 2
}
